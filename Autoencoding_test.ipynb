{
 "cells": [
  {
   "cell_type": "code",
   "execution_count": 58,
   "metadata": {},
   "outputs": [],
   "source": [
    "from templates import *\n",
    "import cv2\n",
    "import imageio\n",
    "import numpy as np\n",
    "from torch.utils.data import DataLoader\n",
    "import matplotlib.pyplot as plt\n",
    "import imageio\n",
    "from PIL import Image"
   ]
  },
  {
   "cell_type": "code",
   "execution_count": 5,
   "metadata": {},
   "outputs": [
    {
     "name": "stderr",
     "output_type": "stream",
     "text": [
      "Global seed set to 0\n"
     ]
    },
    {
     "name": "stdout",
     "output_type": "stream",
     "text": [
      "Model params: 160.69 M\n"
     ]
    }
   ],
   "source": [
    "device = 'cuda:0'\n",
    "conf = ffhq256_autoenc()\n",
    "# print(conf.name)\n",
    "model = LitModel(conf)\n",
    "state = torch.load(f'ckpt/ffhq_256/last.ckpt', map_location='cpu')\n",
    "model.load_state_dict(state['state_dict'], strict=False)\n",
    "model.ema_model.eval()\n",
    "model.ema_model.to(device);"
   ]
  },
  {
   "cell_type": "code",
   "execution_count": 59,
   "metadata": {},
   "outputs": [],
   "source": [
    "# data_root='/home/v-houxingren/cjh/dataset/CelebA-HQ/style/images/'\n",
    "data_root = 'F://Dataset/ffhq/cmp_ori'\n",
    "xt_root = 'H://pku/coding_test/coding_comparison/For_diffae/xt/'"
   ]
  },
  {
   "cell_type": "code",
   "execution_count": 61,
   "metadata": {},
   "outputs": [
    {
     "name": "stdout",
     "output_type": "stream",
     "text": [
      "16\n",
      "[WindowsPath('169.jpg'), WindowsPath('21205.jpg'), WindowsPath('21334.jpg'), WindowsPath('46293.jpg'), WindowsPath('46690.jpg'), WindowsPath('46725.jpg'), WindowsPath('46954.jpg'), WindowsPath('46988.jpg'), WindowsPath('169.jpg'), WindowsPath('21205.jpg'), WindowsPath('21334.jpg'), WindowsPath('46293.jpg'), WindowsPath('46690.jpg'), WindowsPath('46725.jpg'), WindowsPath('46954.jpg'), WindowsPath('46988.jpg')]\n"
     ]
    }
   ],
   "source": [
    "data = ImageDataset(data_root, image_size=conf.img_size, exts=['jpg', 'JPG', 'png'], do_augment=False)\n",
    "print(len(data.paths))\n",
    "print((data.paths))\n",
    "dataloader = DataLoader(data,\n",
    "                       batch_size = 1,\n",
    "                       num_workers = 1,\n",
    "                       shuffle = False)"
   ]
  },
  {
   "cell_type": "code",
   "execution_count": 50,
   "metadata": {},
   "outputs": [
    {
     "data": {
      "text/plain": "16"
     },
     "execution_count": 50,
     "metadata": {},
     "output_type": "execute_result"
    }
   ],
   "source": [
    "len(dataloader)\n",
    "# print(data[15]['path'])"
   ]
  },
  {
   "cell_type": "code",
   "execution_count": 48,
   "metadata": {},
   "outputs": [
    {
     "ename": "TypeError",
     "evalue": "Caught TypeError in DataLoader worker process 0.\nOriginal Traceback (most recent call last):\n  File \"C:\\Users\\cjh09\\Anaconda3\\envs\\ldm\\lib\\site-packages\\torch\\utils\\data\\_utils\\worker.py\", line 198, in _worker_loop\n    data = fetcher.fetch(index)\n  File \"C:\\Users\\cjh09\\Anaconda3\\envs\\ldm\\lib\\site-packages\\torch\\utils\\data\\_utils\\fetch.py\", line 47, in fetch\n    return self.collate_fn(data)\n  File \"C:\\Users\\cjh09\\Anaconda3\\envs\\ldm\\lib\\site-packages\\torch\\utils\\data\\_utils\\collate.py\", line 73, in default_collate\n    return {key: default_collate([d[key] for d in batch]) for key in elem}\n  File \"C:\\Users\\cjh09\\Anaconda3\\envs\\ldm\\lib\\site-packages\\torch\\utils\\data\\_utils\\collate.py\", line 73, in <dictcomp>\n    return {key: default_collate([d[key] for d in batch]) for key in elem}\n  File \"C:\\Users\\cjh09\\Anaconda3\\envs\\ldm\\lib\\site-packages\\torch\\utils\\data\\_utils\\collate.py\", line 85, in default_collate\n    raise TypeError(default_collate_err_msg_format.format(elem_type))\nTypeError: default_collate: batch must contain tensors, numpy arrays, numbers, dicts or lists; found <class 'pathlib.WindowsPath'>\n",
     "output_type": "error",
     "traceback": [
      "\u001B[1;31m---------------------------------------------------------------------------\u001B[0m",
      "\u001B[1;31mTypeError\u001B[0m                                 Traceback (most recent call last)",
      "Input \u001B[1;32mIn [48]\u001B[0m, in \u001B[0;36m<cell line: 1>\u001B[1;34m()\u001B[0m\n\u001B[1;32m----> 1\u001B[0m \u001B[38;5;28;01mfor\u001B[39;00m i,data_i \u001B[38;5;129;01min\u001B[39;00m \u001B[38;5;28menumerate\u001B[39m(dataloader):\n\u001B[0;32m      2\u001B[0m     \u001B[38;5;28;01mif\u001B[39;00m i\u001B[38;5;241m>\u001B[39m\u001B[38;5;241m10\u001B[39m:\n\u001B[0;32m      3\u001B[0m         \u001B[38;5;28;01mbreak\u001B[39;00m\n",
      "File \u001B[1;32m~\\Anaconda3\\envs\\ldm\\lib\\site-packages\\torch\\utils\\data\\dataloader.py:435\u001B[0m, in \u001B[0;36m_BaseDataLoaderIter.__next__\u001B[1;34m(self)\u001B[0m\n\u001B[0;32m    433\u001B[0m \u001B[38;5;28;01mif\u001B[39;00m \u001B[38;5;28mself\u001B[39m\u001B[38;5;241m.\u001B[39m_sampler_iter \u001B[38;5;129;01mis\u001B[39;00m \u001B[38;5;28;01mNone\u001B[39;00m:\n\u001B[0;32m    434\u001B[0m     \u001B[38;5;28mself\u001B[39m\u001B[38;5;241m.\u001B[39m_reset()\n\u001B[1;32m--> 435\u001B[0m data \u001B[38;5;241m=\u001B[39m \u001B[38;5;28;43mself\u001B[39;49m\u001B[38;5;241;43m.\u001B[39;49m\u001B[43m_next_data\u001B[49m\u001B[43m(\u001B[49m\u001B[43m)\u001B[49m\n\u001B[0;32m    436\u001B[0m \u001B[38;5;28mself\u001B[39m\u001B[38;5;241m.\u001B[39m_num_yielded \u001B[38;5;241m+\u001B[39m\u001B[38;5;241m=\u001B[39m \u001B[38;5;241m1\u001B[39m\n\u001B[0;32m    437\u001B[0m \u001B[38;5;28;01mif\u001B[39;00m \u001B[38;5;28mself\u001B[39m\u001B[38;5;241m.\u001B[39m_dataset_kind \u001B[38;5;241m==\u001B[39m _DatasetKind\u001B[38;5;241m.\u001B[39mIterable \u001B[38;5;129;01mand\u001B[39;00m \\\n\u001B[0;32m    438\u001B[0m         \u001B[38;5;28mself\u001B[39m\u001B[38;5;241m.\u001B[39m_IterableDataset_len_called \u001B[38;5;129;01mis\u001B[39;00m \u001B[38;5;129;01mnot\u001B[39;00m \u001B[38;5;28;01mNone\u001B[39;00m \u001B[38;5;129;01mand\u001B[39;00m \\\n\u001B[0;32m    439\u001B[0m         \u001B[38;5;28mself\u001B[39m\u001B[38;5;241m.\u001B[39m_num_yielded \u001B[38;5;241m>\u001B[39m \u001B[38;5;28mself\u001B[39m\u001B[38;5;241m.\u001B[39m_IterableDataset_len_called:\n",
      "File \u001B[1;32m~\\Anaconda3\\envs\\ldm\\lib\\site-packages\\torch\\utils\\data\\dataloader.py:1085\u001B[0m, in \u001B[0;36m_MultiProcessingDataLoaderIter._next_data\u001B[1;34m(self)\u001B[0m\n\u001B[0;32m   1083\u001B[0m \u001B[38;5;28;01melse\u001B[39;00m:\n\u001B[0;32m   1084\u001B[0m     \u001B[38;5;28;01mdel\u001B[39;00m \u001B[38;5;28mself\u001B[39m\u001B[38;5;241m.\u001B[39m_task_info[idx]\n\u001B[1;32m-> 1085\u001B[0m     \u001B[38;5;28;01mreturn\u001B[39;00m \u001B[38;5;28;43mself\u001B[39;49m\u001B[38;5;241;43m.\u001B[39;49m\u001B[43m_process_data\u001B[49m\u001B[43m(\u001B[49m\u001B[43mdata\u001B[49m\u001B[43m)\u001B[49m\n",
      "File \u001B[1;32m~\\Anaconda3\\envs\\ldm\\lib\\site-packages\\torch\\utils\\data\\dataloader.py:1111\u001B[0m, in \u001B[0;36m_MultiProcessingDataLoaderIter._process_data\u001B[1;34m(self, data)\u001B[0m\n\u001B[0;32m   1109\u001B[0m \u001B[38;5;28mself\u001B[39m\u001B[38;5;241m.\u001B[39m_try_put_index()\n\u001B[0;32m   1110\u001B[0m \u001B[38;5;28;01mif\u001B[39;00m \u001B[38;5;28misinstance\u001B[39m(data, ExceptionWrapper):\n\u001B[1;32m-> 1111\u001B[0m     \u001B[43mdata\u001B[49m\u001B[38;5;241;43m.\u001B[39;49m\u001B[43mreraise\u001B[49m\u001B[43m(\u001B[49m\u001B[43m)\u001B[49m\n\u001B[0;32m   1112\u001B[0m \u001B[38;5;28;01mreturn\u001B[39;00m data\n",
      "File \u001B[1;32m~\\Anaconda3\\envs\\ldm\\lib\\site-packages\\torch\\_utils.py:428\u001B[0m, in \u001B[0;36mExceptionWrapper.reraise\u001B[1;34m(self)\u001B[0m\n\u001B[0;32m    424\u001B[0m \u001B[38;5;28;01melif\u001B[39;00m \u001B[38;5;28mgetattr\u001B[39m(\u001B[38;5;28mself\u001B[39m\u001B[38;5;241m.\u001B[39mexc_type, \u001B[38;5;124m\"\u001B[39m\u001B[38;5;124mmessage\u001B[39m\u001B[38;5;124m\"\u001B[39m, \u001B[38;5;28;01mNone\u001B[39;00m):\n\u001B[0;32m    425\u001B[0m     \u001B[38;5;66;03m# Some exceptions have first argument as non-str but explicitly\u001B[39;00m\n\u001B[0;32m    426\u001B[0m     \u001B[38;5;66;03m# have message field\u001B[39;00m\n\u001B[0;32m    427\u001B[0m     \u001B[38;5;28;01mraise\u001B[39;00m \u001B[38;5;28mself\u001B[39m\u001B[38;5;241m.\u001B[39mexc_type(message\u001B[38;5;241m=\u001B[39mmsg)\n\u001B[1;32m--> 428\u001B[0m \u001B[38;5;28;01mraise\u001B[39;00m \u001B[38;5;28mself\u001B[39m\u001B[38;5;241m.\u001B[39mexc_type(msg)\n",
      "\u001B[1;31mTypeError\u001B[0m: Caught TypeError in DataLoader worker process 0.\nOriginal Traceback (most recent call last):\n  File \"C:\\Users\\cjh09\\Anaconda3\\envs\\ldm\\lib\\site-packages\\torch\\utils\\data\\_utils\\worker.py\", line 198, in _worker_loop\n    data = fetcher.fetch(index)\n  File \"C:\\Users\\cjh09\\Anaconda3\\envs\\ldm\\lib\\site-packages\\torch\\utils\\data\\_utils\\fetch.py\", line 47, in fetch\n    return self.collate_fn(data)\n  File \"C:\\Users\\cjh09\\Anaconda3\\envs\\ldm\\lib\\site-packages\\torch\\utils\\data\\_utils\\collate.py\", line 73, in default_collate\n    return {key: default_collate([d[key] for d in batch]) for key in elem}\n  File \"C:\\Users\\cjh09\\Anaconda3\\envs\\ldm\\lib\\site-packages\\torch\\utils\\data\\_utils\\collate.py\", line 73, in <dictcomp>\n    return {key: default_collate([d[key] for d in batch]) for key in elem}\n  File \"C:\\Users\\cjh09\\Anaconda3\\envs\\ldm\\lib\\site-packages\\torch\\utils\\data\\_utils\\collate.py\", line 85, in default_collate\n    raise TypeError(default_collate_err_msg_format.format(elem_type))\nTypeError: default_collate: batch must contain tensors, numpy arrays, numbers, dicts or lists; found <class 'pathlib.WindowsPath'>\n"
     ]
    }
   ],
   "source": [
    "for i,data_i in enumerate(dataloader):\n",
    "    if i>10:\n",
    "        break\n",
    "    imgs = data_i['img']\n",
    "#     print(imgs.shape)\n",
    "    cond = model.encode(imgs.to(device)) \n",
    "    xT = model.encode_stochastic(imgs.to(device), cond, T=250)\n",
    "    xT = xT.cpu().detach().numpy()\n",
    "    print(np.min(xT),np.max(xT))\n",
    "    xT = xT * 2\n",
    "    xT = np.round(xT).astype(int)\n",
    "    xT = xT + 24\n",
    "    print(np.min(xT),np.max(xT))\n",
    "    xT = xT.astype(np.uint8)\n",
    "    xT = np.transpose(xT,(0,2,3,1))\n",
    "    name = os.path.join(xt_root,data_i['path'].split('.')[0]+'.png')\n",
    "    imageio.imsave(name,xT[0])\n",
    "\n",
    "    # xenc.append(xT.cpu().detach().numpy().astype(np.float32))"
   ]
  },
  {
   "cell_type": "code",
   "execution_count": 103,
   "metadata": {},
   "outputs": [],
   "source": [
    "# for i in range(len(xenc)):\n",
    "#     if i == 0:\n",
    "#         codes = xenc[i]\n",
    "#     else:\n",
    "#         codes = np.concatenate((codes,xenc[i]),axis=0)"
   ]
  },
  {
   "cell_type": "code",
   "execution_count": 104,
   "metadata": {},
   "outputs": [],
   "source": [
    "codes = codes / 0.5\n",
    "codes = np.round(codes).astype(int)\n",
    "# codes = codes + 24"
   ]
  },
  {
   "cell_type": "code",
   "execution_count": 105,
   "metadata": {},
   "outputs": [],
   "source": [
    "codes = codes + 24"
   ]
  },
  {
   "cell_type": "code",
   "execution_count": 106,
   "metadata": {},
   "outputs": [],
   "source": [
    "codes = codes.astype(np.uint8)"
   ]
  },
  {
   "cell_type": "code",
   "execution_count": 109,
   "metadata": {},
   "outputs": [
    {
     "data": {
      "text/plain": [
       "(22, 256, 256, 3)"
      ]
     },
     "execution_count": 109,
     "metadata": {},
     "output_type": "execute_result"
    }
   ],
   "source": [
    "codes = np.transpose(codes,(0,2,3,1))\n",
    "codes.shape"
   ]
  },
  {
   "cell_type": "code",
   "execution_count": 110,
   "metadata": {},
   "outputs": [],
   "source": [
    "save_path = \"test/xt/\""
   ]
  },
  {
   "cell_type": "code",
   "execution_count": 111,
   "metadata": {},
   "outputs": [],
   "source": [
    "for i in range(codes.shape[0]):\n",
    "    name = os.path.join(save_path,str(i)+'.png')\n",
    "    imageio.imsave(name,codes[i])"
   ]
  },
  {
   "cell_type": "code",
   "execution_count": 57,
   "metadata": {},
   "outputs": [
    {
     "data": {
      "image/png": "[encoded data removed]",
      "text/plain": [
       "<Figure size 432x288 with 1 Axes>"
      ]
     },
     "metadata": {
      "needs_background": "light"
     },
     "output_type": "display_data"
    }
   ],
   "source": [
    "plt.hist(codes.flatten(), 100, density=True)\n",
    "plt.xlabel('xT')\n",
    "plt.ylabel('Frequency')\n",
    "plt.title('Distribution of xT')\n",
    "plt.show()"
   ]
  },
  {
   "cell_type": "code",
   "execution_count": 107,
   "metadata": {},
   "outputs": [
    {
     "data": {
      "text/plain": [
       "1"
      ]
     },
     "execution_count": 107,
     "metadata": {},
     "output_type": "execute_result"
    }
   ],
   "source": [
    "np.min(codes)"
   ]
  },
  {
   "cell_type": "code",
   "execution_count": 108,
   "metadata": {},
   "outputs": [
    {
     "data": {
      "text/plain": [
       "44"
      ]
     },
     "execution_count": 108,
     "metadata": {},
     "output_type": "execute_result"
    }
   ],
   "source": [
    "np.max(codes)"
   ]
  },
  {
   "cell_type": "code",
   "execution_count": 42,
   "metadata": {},
   "outputs": [
    {
     "data": {
      "text/plain": [
       "0.004473167"
      ]
     },
     "execution_count": 42,
     "metadata": {},
     "output_type": "execute_result"
    }
   ],
   "source": [
    "np.mean(codes)"
   ]
  },
  {
   "cell_type": "code",
   "execution_count": 38,
   "metadata": {
    "scrolled": true
   },
   "outputs": [
    {
     "data": {
      "text/plain": [
       "2.0402167"
      ]
     },
     "execution_count": 38,
     "metadata": {},
     "output_type": "execute_result"
    }
   ],
   "source": [
    "np.std(codes)"
   ]
  },
  {
   "cell_type": "code",
   "execution_count": 65,
   "metadata": {},
   "outputs": [],
   "source": [
    "xt_path = 'test/xt_vvc_36'"
   ]
  },
  {
   "cell_type": "code",
   "execution_count": 77,
   "metadata": {},
   "outputs": [],
   "source": [
    "def get_xt(i):\n",
    "    xtp=os.path.join(xt_path,str(i)+'.jpg')\n",
    "    xtp = imageio.imread(xtp)\n",
    "    xtp = np.asarray(xtp)\n",
    "    print(xtp.shape,np.min(xtp),np.max(xtp))\n",
    "    xtp = np.transpose(xtp,(2,0,1))\n",
    "    xtp = np.expand_dims(xtp,axis=0)\n",
    "#     xt = (xtp-24)*2\n",
    "#     print(xt.shape,xt)"
   ]
  },
  {
   "cell_type": "code",
   "execution_count": 78,
   "metadata": {},
   "outputs": [
    {
     "name": "stdout",
     "output_type": "stream",
     "text": [
      "(256, 256, 3) 82 197\n"
     ]
    },
    {
     "name": "stderr",
     "output_type": "stream",
     "text": [
      "/tmp/ipykernel_18831/1179264662.py:3: DeprecationWarning: Starting with ImageIO v3 the behavior of this function will switch to that of iio.v3.imread. To keep the current behavior (and make this warning dissapear) use `import imageio.v2 as imageio` or call `imageio.v2.imread` directly.\n",
      "  xtp = imageio.imread(xtp)\n"
     ]
    }
   ],
   "source": [
    "get_xt(1)"
   ]
  },
  {
   "cell_type": "code",
   "execution_count": 83,
   "metadata": {},
   "outputs": [
    {
     "name": "stdout",
     "output_type": "stream",
     "text": [
      "[[[138 149 127]\n",
      "  [149 149 138]\n",
      "  [149 138 138]\n",
      "  ...\n",
      "  [138 149 138]\n",
      "  [138 149 127]\n",
      "  [149 149 149]]\n",
      "\n",
      " [[149 138 149]\n",
      "  [138 149 149]\n",
      "  [138 138 138]\n",
      "  ...\n",
      "  [138 138 138]\n",
      "  [138 138 149]\n",
      "  [127 127 149]]\n",
      "\n",
      " [[138 138 149]\n",
      "  [138 138 138]\n",
      "  [138 138 138]\n",
      "  ...\n",
      "  [138 138 138]\n",
      "  [138 138 138]\n",
      "  [138 127 138]]\n",
      "\n",
      " ...\n",
      "\n",
      " [[181 149 127]\n",
      "  [170 159 159]\n",
      "  [117 191 117]\n",
      "  ...\n",
      "  [138 138 138]\n",
      "  [149 149 138]\n",
      "  [159 149 149]]\n",
      "\n",
      " [[127 127 117]\n",
      "  [106 149 117]\n",
      "  [127 138 149]\n",
      "  ...\n",
      "  [127 127 127]\n",
      "  [138 138 127]\n",
      "  [149 138 149]]\n",
      "\n",
      " [[ 85 138 149]\n",
      "  [149 106 159]\n",
      "  [117 170 149]\n",
      "  ...\n",
      "  [117 117 127]\n",
      "  [138 138 138]\n",
      "  [127 138 149]]]\n",
      "(256, 256, 3) 0 255\n"
     ]
    }
   ],
   "source": [
    "xt1 =Image.open(\"test/xt/1.png\")\n",
    "xt1 = np.asarray(xt1)\n",
    "print(xt1)\n",
    "print(xt1.shape,np.min(xt1),np.max(xt1))"
   ]
  },
  {
   "cell_type": "code",
   "execution_count": null,
   "metadata": {},
   "outputs": [],
   "source": [
    "for i,data_i in enumerate(dataloader):\n",
    "#     if i>10:\n",
    "#         break\n",
    "    imgs = data_i['img']\n",
    "#     print(imgs.shape)\n",
    "    cond = model.encode(imgs.to(device)) \n",
    "    xtp=os.path.join()"
   ]
  }
 ],
 "metadata": {
  "kernelspec": {
   "display_name": "ldm",
   "language": "python",
   "name": "ldm"
  },
  "language_info": {
   "codemirror_mode": {
    "name": "ipython",
    "version": 3
   },
   "file_extension": ".py",
   "mimetype": "text/x-python",
   "name": "python",
   "nbconvert_exporter": "python",
   "pygments_lexer": "ipython3",
   "version": "3.8.5"
  }
 },
 "nbformat": 4,
 "nbformat_minor": 4
}